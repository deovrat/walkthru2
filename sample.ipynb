{
 "cells": [
  {
   "cell_type": "markdown",
   "id": "b7c6a593-dd3f-4772-93c7-6fbd9d87cd63",
   "metadata": {},
   "source": [
    "# Walkthrough sample notebook"
   ]
  },
  {
   "cell_type": "markdown",
   "id": "80adc309-4be3-4023-99c6-1a86e96c18aa",
   "metadata": {},
   "source": [
    "Here is how I calculate 1+1"
   ]
  },
  {
   "cell_type": "code",
   "execution_count": 2,
   "id": "c54a68cc-a762-4e44-8b42-fc6dfeeea641",
   "metadata": {},
   "outputs": [
    {
     "data": {
      "text/plain": [
       "2"
      ]
     },
     "execution_count": 2,
     "metadata": {},
     "output_type": "execute_result"
    }
   ],
   "source": [
    "1+1"
   ]
  },
  {
   "cell_type": "code",
   "execution_count": 3,
   "id": "37ae319f-0a4a-4e2f-80c7-9b400594c90e",
   "metadata": {},
   "outputs": [],
   "source": [
    "from numpy import *"
   ]
  },
  {
   "cell_type": "raw",
   "id": "1f2ca3cc-5cea-440f-9ca9-287d1852f673",
   "metadata": {},
   "source": [
    "Here is how I calculate sin:"
   ]
  },
  {
   "cell_type": "code",
   "execution_count": null,
   "id": "5aeade73-c5c4-4d19-a8b0-5edbea84e445",
   "metadata": {},
   "outputs": [],
   "source": [
    "sin"
   ]
  }
 ],
 "metadata": {
  "kernelspec": {
   "display_name": "Python 3 (ipykernel)",
   "language": "python",
   "name": "python3"
  },
  "language_info": {
   "codemirror_mode": {
    "name": "ipython",
    "version": 3
   },
   "file_extension": ".py",
   "mimetype": "text/x-python",
   "name": "python",
   "nbconvert_exporter": "python",
   "pygments_lexer": "ipython3",
   "version": "3.10.6"
  }
 },
 "nbformat": 4,
 "nbformat_minor": 5
}
